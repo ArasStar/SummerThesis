{
  "nbformat": 4,
  "nbformat_minor": 0,
  "metadata": {
    "colab": {
      "name": "CheXpert_predict.ipynb",
      "version": "0.3.2",
      "provenance": [],
      "collapsed_sections": []
    },
    "kernelspec": {
      "name": "python3",
      "display_name": "Python 3"
    },
    "accelerator": "GPU"
  },
  "cells": [
    {
      "cell_type": "code",
      "metadata": {
        "id": "zl931G_DWIGU",
        "colab_type": "code",
        "colab": {
          "base_uri": "https://localhost:8080/",
          "height": 409
        },
        "outputId": "516823bb-60a8-4889-c9b0-3e023b05941a"
      },
      "source": [
        "%reload_ext autoreload\n",
        "%autoreload 2\n",
        "%matplotlib inline\n",
        "\n",
        "#DOWNLOAD THE DATA\n",
        "\n",
        "from google.colab import drive\n",
        "import zipfile\n",
        "\n",
        "#MOUNT GDRIVE: DOWNLOAD DATA AND FILTERED LABELS\n",
        "drive.mount('/content/gdrive',force_remount=True)\n",
        "\n",
        "# UNZIP ZIP\n",
        "print (\"Uncompressing zip file\")\n",
        "zip_ref = zipfile.ZipFile('/content/gdrive/My Drive/CheXpert-v1.0-small.zip', 'r')\n",
        "zip_ref.extractall()\n",
        "zip_ref.close()\n",
        "print(\"downloaded files\")"
      ],
      "execution_count": 1,
      "outputs": [
        {
          "output_type": "stream",
          "text": [
            "Mounted at /content/gdrive\n",
            "Uncompressing zip file\n"
          ],
          "name": "stdout"
        },
        {
          "output_type": "error",
          "ename": "KeyboardInterrupt",
          "evalue": "ignored",
          "traceback": [
            "\u001b[0;31m---------------------------------------------------------------------------\u001b[0m",
            "\u001b[0;31mKeyboardInterrupt\u001b[0m                         Traceback (most recent call last)",
            "\u001b[0;32m<ipython-input-1-5563dfb9274f>\u001b[0m in \u001b[0;36m<module>\u001b[0;34m()\u001b[0m\n\u001b[1;32m     14\u001b[0m \u001b[0mprint\u001b[0m \u001b[0;34m(\u001b[0m\u001b[0;34m\"Uncompressing zip file\"\u001b[0m\u001b[0;34m)\u001b[0m\u001b[0;34m\u001b[0m\u001b[0;34m\u001b[0m\u001b[0m\n\u001b[1;32m     15\u001b[0m \u001b[0mzip_ref\u001b[0m \u001b[0;34m=\u001b[0m \u001b[0mzipfile\u001b[0m\u001b[0;34m.\u001b[0m\u001b[0mZipFile\u001b[0m\u001b[0;34m(\u001b[0m\u001b[0;34m'/content/gdrive/My Drive/CheXpert-v1.0-small.zip'\u001b[0m\u001b[0;34m,\u001b[0m \u001b[0;34m'r'\u001b[0m\u001b[0;34m)\u001b[0m\u001b[0;34m\u001b[0m\u001b[0;34m\u001b[0m\u001b[0m\n\u001b[0;32m---> 16\u001b[0;31m \u001b[0mzip_ref\u001b[0m\u001b[0;34m.\u001b[0m\u001b[0mextractall\u001b[0m\u001b[0;34m(\u001b[0m\u001b[0;34m)\u001b[0m\u001b[0;34m\u001b[0m\u001b[0;34m\u001b[0m\u001b[0m\n\u001b[0m\u001b[1;32m     17\u001b[0m \u001b[0mzip_ref\u001b[0m\u001b[0;34m.\u001b[0m\u001b[0mclose\u001b[0m\u001b[0;34m(\u001b[0m\u001b[0;34m)\u001b[0m\u001b[0;34m\u001b[0m\u001b[0;34m\u001b[0m\u001b[0m\n\u001b[1;32m     18\u001b[0m \u001b[0mprint\u001b[0m\u001b[0;34m(\u001b[0m\u001b[0;34m\"downloaded files\"\u001b[0m\u001b[0;34m)\u001b[0m\u001b[0;34m\u001b[0m\u001b[0;34m\u001b[0m\u001b[0m\n",
            "\u001b[0;32m/usr/lib/python3.6/zipfile.py\u001b[0m in \u001b[0;36mextractall\u001b[0;34m(self, path, members, pwd)\u001b[0m\n\u001b[1;32m   1522\u001b[0m \u001b[0;34m\u001b[0m\u001b[0m\n\u001b[1;32m   1523\u001b[0m         \u001b[0;32mfor\u001b[0m \u001b[0mzipinfo\u001b[0m \u001b[0;32min\u001b[0m \u001b[0mmembers\u001b[0m\u001b[0;34m:\u001b[0m\u001b[0;34m\u001b[0m\u001b[0;34m\u001b[0m\u001b[0m\n\u001b[0;32m-> 1524\u001b[0;31m             \u001b[0mself\u001b[0m\u001b[0;34m.\u001b[0m\u001b[0m_extract_member\u001b[0m\u001b[0;34m(\u001b[0m\u001b[0mzipinfo\u001b[0m\u001b[0;34m,\u001b[0m \u001b[0mpath\u001b[0m\u001b[0;34m,\u001b[0m \u001b[0mpwd\u001b[0m\u001b[0;34m)\u001b[0m\u001b[0;34m\u001b[0m\u001b[0;34m\u001b[0m\u001b[0m\n\u001b[0m\u001b[1;32m   1525\u001b[0m \u001b[0;34m\u001b[0m\u001b[0m\n\u001b[1;32m   1526\u001b[0m     \u001b[0;34m@\u001b[0m\u001b[0mclassmethod\u001b[0m\u001b[0;34m\u001b[0m\u001b[0;34m\u001b[0m\u001b[0m\n",
            "\u001b[0;32m/usr/lib/python3.6/zipfile.py\u001b[0m in \u001b[0;36m_extract_member\u001b[0;34m(self, member, targetpath, pwd)\u001b[0m\n\u001b[1;32m   1577\u001b[0m         \u001b[0;32mwith\u001b[0m \u001b[0mself\u001b[0m\u001b[0;34m.\u001b[0m\u001b[0mopen\u001b[0m\u001b[0;34m(\u001b[0m\u001b[0mmember\u001b[0m\u001b[0;34m,\u001b[0m \u001b[0mpwd\u001b[0m\u001b[0;34m=\u001b[0m\u001b[0mpwd\u001b[0m\u001b[0;34m)\u001b[0m \u001b[0;32mas\u001b[0m \u001b[0msource\u001b[0m\u001b[0;34m,\u001b[0m\u001b[0;31m \u001b[0m\u001b[0;31m\\\u001b[0m\u001b[0;34m\u001b[0m\u001b[0;34m\u001b[0m\u001b[0m\n\u001b[1;32m   1578\u001b[0m              \u001b[0mopen\u001b[0m\u001b[0;34m(\u001b[0m\u001b[0mtargetpath\u001b[0m\u001b[0;34m,\u001b[0m \u001b[0;34m\"wb\"\u001b[0m\u001b[0;34m)\u001b[0m \u001b[0;32mas\u001b[0m \u001b[0mtarget\u001b[0m\u001b[0;34m:\u001b[0m\u001b[0;34m\u001b[0m\u001b[0;34m\u001b[0m\u001b[0m\n\u001b[0;32m-> 1579\u001b[0;31m             \u001b[0mshutil\u001b[0m\u001b[0;34m.\u001b[0m\u001b[0mcopyfileobj\u001b[0m\u001b[0;34m(\u001b[0m\u001b[0msource\u001b[0m\u001b[0;34m,\u001b[0m \u001b[0mtarget\u001b[0m\u001b[0;34m)\u001b[0m\u001b[0;34m\u001b[0m\u001b[0;34m\u001b[0m\u001b[0m\n\u001b[0m\u001b[1;32m   1580\u001b[0m \u001b[0;34m\u001b[0m\u001b[0m\n\u001b[1;32m   1581\u001b[0m         \u001b[0;32mreturn\u001b[0m \u001b[0mtargetpath\u001b[0m\u001b[0;34m\u001b[0m\u001b[0;34m\u001b[0m\u001b[0m\n",
            "\u001b[0;31mKeyboardInterrupt\u001b[0m: "
          ]
        }
      ]
    },
    {
      "cell_type": "code",
      "metadata": {
        "id": "24F3GZwhoEHY",
        "colab_type": "code",
        "colab": {
          "base_uri": "https://localhost:8080/",
          "height": 190
        },
        "outputId": "8db4caa0-aa76-424c-de97-55d944b881fb"
      },
      "source": [
        "!pip install torchvision==0.2.2\n",
        "!pip install torch==1.0.1 -f https://download.pytorch.org/whl/cu100/stable # CUDA 10.0 build\n"
      ],
      "execution_count": 2,
      "outputs": [
        {
          "output_type": "stream",
          "text": [
            "Requirement already satisfied: torchvision==0.2.2 in /usr/local/lib/python3.6/dist-packages (0.2.2)\n",
            "Requirement already satisfied: six in /usr/local/lib/python3.6/dist-packages (from torchvision==0.2.2) (1.12.0)\n",
            "Requirement already satisfied: torch in /usr/local/lib/python3.6/dist-packages (from torchvision==0.2.2) (1.0.1)\n",
            "Requirement already satisfied: numpy in /usr/local/lib/python3.6/dist-packages (from torchvision==0.2.2) (1.16.4)\n",
            "Requirement already satisfied: tqdm==4.19.9 in /usr/local/lib/python3.6/dist-packages (from torchvision==0.2.2) (4.19.9)\n",
            "Requirement already satisfied: pillow>=4.1.1 in /usr/local/lib/python3.6/dist-packages (from torchvision==0.2.2) (4.3.0)\n",
            "Requirement already satisfied: olefile in /usr/local/lib/python3.6/dist-packages (from pillow>=4.1.1->torchvision==0.2.2) (0.46)\n",
            "Looking in links: https://download.pytorch.org/whl/cu100/stable\n",
            "Requirement already satisfied: torch==1.0.1 in /usr/local/lib/python3.6/dist-packages (1.0.1)\n"
          ],
          "name": "stdout"
        }
      ]
    },
    {
      "cell_type": "code",
      "metadata": {
        "id": "JPHHj6Y6aqIr",
        "colab_type": "code",
        "colab": {}
      },
      "source": [
        "from sklearn.metrics import roc_auc_score\n",
        "\n",
        "def validation_eval(learn):\n",
        "    chexpert_targets = ['Atelectasis', 'Cardiomegaly', 'Consolidation', 'Edema', 'Pleural Effusion']\n",
        "    acts = full_valid_df.groupby(['patient','study'])[learn.data.classes].max().values\n",
        "\n",
        "    valid_preds=learn.get_preds(ds_type=DatasetType.Valid)\n",
        "    preds = valid_preds[0]\n",
        "    preds_df = full_valid_df.copy()\n",
        "\n",
        "    for i, c in enumerate(learn.data.classes):\n",
        "        preds_df[c] = preds[:,i]\n",
        "\n",
        "    preds = preds_df.groupby(['patient','study'])[learn.data.classes].mean().values\n",
        "\n",
        "    auc_scores = {learn.data.classes[i]: roc_auc_score(acts[:,i],preds[:,i]) for i in range(len(chexpert_targets))}\n",
        "\n",
        "    #average results reported in the associated paper\n",
        "    chexpert_auc_scores = {'Atelectasis':      0.858,\n",
        "                           'Cardiomegaly':     0.854,\n",
        "                           'Consolidation':    0.939,\n",
        "                           'Edema':            0.941,\n",
        "                           'Pleural Effusion': 0.936}\n",
        "\n",
        "    max_feat_len = max(map(len, chexpert_targets))\n",
        "\n",
        "    avg_chexpert_auc = sum(list(chexpert_auc_scores.values()))/len(chexpert_auc_scores.values())\n",
        "    avg_auc          = sum(list(auc_scores.values()))/len(auc_scores.values())\n",
        "\n",
        "    [print(f'{k: <{max_feat_len}}\\t auc: {auc_scores[k]:.3}\\t chexpert auc: {chexpert_auc_scores[k]:.3}\\t difference:\\\n",
        "    {(chexpert_auc_scores[k]-auc_scores[k]):.3}') for k in chexpert_targets]\n",
        "\n",
        "    print(f'\\nAverage auc: {avg_auc:.3} \\t CheXpert average auc {avg_chexpert_auc:.3}\\t Difference {(avg_chexpert_auc-avg_auc):.3}')\n",
        "\n"
      ],
      "execution_count": 0,
      "outputs": []
    },
    {
      "cell_type": "code",
      "metadata": {
        "id": "qlAk1iS2Vp2D",
        "colab_type": "code",
        "outputId": "17712004-325d-4414-f36f-8e1a9ea95944",
        "colab": {
          "base_uri": "https://localhost:8080/",
          "height": 153
        }
      },
      "source": [
        "import cv2\n",
        "import sys\n",
        "import pandas as pd\n",
        "from joblib import Parallel, delayed\n",
        "from fastai.vision import *\n",
        "from torchvision.models import *\n",
        "from sklearn.metrics import roc_auc_score\n",
        "\n",
        "\n",
        "def vaka():\n",
        "    chexpert_targets = ['Atelectasis', 'Cardiomegaly', 'Consolidation', 'Edema', 'Pleural Effusion']\n",
        "    #python src/<path-to-prediction-program> <input-data-csv-filename> <output-prediction-csv-path>\n",
        "    \n",
        "    infile='CheXpert-v1.0-small/valid.csv'\n",
        "    test_df = pd.read_csv(infile)\n",
        "    test_df['patient'] = test_df.Path.str.split('/',3,True)[2]\n",
        "    test_df  ['study'] = test_df.Path.str.split('/',4,True)[3]\n",
        "\n",
        "    chexpert_learn = load_learner('','chexpert_densenet.pkl')\n",
        "    test_data_src = (ImageList.from_df(test_df, path=\"\"))\n",
        "    chexpert_learn.data.add_test(test_data_src)\n",
        "    chexpert_learn.data.batch_size = 8\n",
        "    \n",
        "    test_preds=chexpert_learn.get_preds(ds_type=DatasetType.Test)[0]\n",
        "    \n",
        "    \n",
        "    acts = test_df.groupby(['patient','study'])[chexpert_learn.data.classes].max().values\n",
        "\n",
        "    preds_df = test_df.copy()\n",
        "\n",
        "    #print(test_preds[0:5])\n",
        "   \n",
        "    i = 0\n",
        "    for c in chexpert_learn.data.classes:\n",
        "        preds_df[c] = test_preds[:,i]\n",
        "        i = i+1\n",
        "        \n",
        "    #CheXpert-v1.0/{valid,test}/<PATIENT>/<STUDY>\n",
        "    preds_df.Path.str.split('/')\n",
        "\n",
        "   \n",
        "    def get_study(path):\n",
        "      return path[0:path.rfind('/')]\n",
        "    \n",
        "    preds_df['Study'] = preds_df.Path.apply(get_study)\n",
        "    #preds = preds_df.drop('Path',axis=1).groupby('Study').max().reset_index()\n",
        "    preds = preds_df.groupby(['patient','study'])[chexpert_learn.data.classes].mean().values\n",
        "\n",
        "    \n",
        "  \n",
        "    print(chexpert_learn.data.classes)\n",
        "    auc_scores = {chexpert_learn.data.classes[i]: roc_auc_score(acts[:,i],preds[:,i]) for i in range(len(chexpert_targets))}\n",
        "    \n",
        "    \n",
        "    #average results reported in the associated paper\n",
        "    chexpert_auc_scores = {'Atelectasis':      0.858,\n",
        "                           'Cardiomegaly':     0.854,\n",
        "                           'Consolidation':    0.939,\n",
        "                           'Edema':            0.941,\n",
        "                           'Pleural Effusion': 0.936}\n",
        "\n",
        "    max_feat_len = max(map(len, chexpert_targets))\n",
        "\n",
        "    avg_chexpert_auc = sum(list(chexpert_auc_scores.values()))/len(chexpert_auc_scores.values())\n",
        "    avg_auc          = sum(list(auc_scores.values()))/len(auc_scores.values())\n",
        "\n",
        "    [print(f'{k: <{max_feat_len}}\\t auc: {auc_scores[k]:.3}\\t chexpert auc: {chexpert_auc_scores[k]:.3}\\t difference:\\\n",
        "    {(chexpert_auc_scores[k]-auc_scores[k]):.3}') for k in chexpert_targets]\n",
        "\n",
        "    print(f'\\nAverage auc: {avg_auc:.3} \\t CheXpert average auc {avg_chexpert_auc:.3}\\t Difference {(avg_chexpert_auc-avg_auc):.3}')\n",
        "\n",
        "    \n",
        "vaka()"
      ],
      "execution_count": 4,
      "outputs": [
        {
          "output_type": "stream",
          "text": [
            "['Atelectasis', 'Cardiomegaly', 'Consolidation', 'Edema', 'Pleural Effusion']\n",
            "Atelectasis     \t auc: 0.815\t chexpert auc: 0.858\t difference:    0.0426\n",
            "Cardiomegaly    \t auc: 0.819\t chexpert auc: 0.854\t difference:    0.0353\n",
            "Consolidation   \t auc: 0.917\t chexpert auc: 0.939\t difference:    0.0223\n",
            "Edema           \t auc: 0.926\t chexpert auc: 0.941\t difference:    0.0153\n",
            "Pleural Effusion\t auc: 0.933\t chexpert auc: 0.936\t difference:    0.00298\n",
            "\n",
            "Average auc: 0.882 \t CheXpert average auc 0.906\t Difference 0.0237\n"
          ],
          "name": "stdout"
        }
      ]
    }
  ]
}